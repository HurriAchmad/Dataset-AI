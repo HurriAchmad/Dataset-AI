{
 "cells": [
  {
   "cell_type": "code",
   "execution_count": 3,
   "metadata": {},
   "outputs": [],
   "source": [
    "import cv2\n",
    "import numpy as np"
   ]
  },
  {
   "cell_type": "code",
   "execution_count": null,
   "metadata": {},
   "outputs": [],
   "source": [
    "# membaca image\n",
    "image = cv2.imread(\"Lidah/001.jpg\")"
   ]
  },
  {
   "cell_type": "code",
   "execution_count": null,
   "metadata": {},
   "outputs": [],
   "source": [
    "print(image)"
   ]
  },
  {
   "cell_type": "code",
   "execution_count": null,
   "metadata": {},
   "outputs": [],
   "source": [
    "# menampilkan image\n",
    "cv2.imshow('001', image)\n",
    "cv2.waitKey(0)\n",
    "cv2.destroyAllWindows()"
   ]
  },
  {
   "cell_type": "code",
   "execution_count": null,
   "metadata": {},
   "outputs": [],
   "source": [
    "# mengakses nilai di pixel x=100, y=20\n",
    "(b, g, r) = image[20, 100]\n",
    "print(\"blue = \",b)\n",
    "print(\"green = \",g)\n",
    "print(\"red = \",r)"
   ]
  },
  {
   "cell_type": "code",
   "execution_count": 18,
   "metadata": {},
   "outputs": [
    {
     "name": "stdout",
     "output_type": "stream",
     "text": [
      "(560, 200, 3)\n"
     ]
    }
   ],
   "source": [
    "# crop image\n",
    "# im_crop = image[100:660, 100:300]\n",
    "\n",
    "# cv2.imshow('crop', im_crop)\n",
    "# cv2.waitKey(0)\n",
    "# cv2.destroyAllWindows()\n",
    "# print(im_crop.shape)"
   ]
  },
  {
   "cell_type": "code",
   "execution_count": 17,
   "metadata": {},
   "outputs": [
    {
     "name": "stdout",
     "output_type": "stream",
     "text": [
      "(960, 1280, 3)\n"
     ]
    }
   ],
   "source": [
    "# mengcopy image\n",
    "cp_image = image.copy()\n",
    "print(cp_image.shape)"
   ]
  },
  {
   "cell_type": "code",
   "execution_count": 19,
   "metadata": {},
   "outputs": [],
   "source": [
    "# mengubah nilai pixel\n",
    "# cp_image[300:350, 170:300] = (255, 255, 255)\n",
    "\n",
    "# cv2.imshow('cp_image',cp_image)\n",
    "# cv2.waitKey(0)\n",
    "# cv2.destroyAllWindows()"
   ]
  },
  {
   "cell_type": "code",
   "execution_count": 20,
   "metadata": {},
   "outputs": [],
   "source": [
    "# resize image\n",
    "r = 400/image.shape[1]\n",
    "dim = (400,int(image.shape[0]*r))\n",
    "im_resized = cv2.resize(image, dim)\n",
    "\n",
    "cv2.imshow('im_resized',im_resized)\n",
    "cv2.waitKey(0)\n",
    "cv2.destroyAllWindows()"
   ]
  },
  {
   "cell_type": "code",
   "execution_count": 21,
   "metadata": {},
   "outputs": [],
   "source": [
    "# detect edges\n",
    "im_edges = cv2.Canny(im_resized, 100, 200)\n",
    "\n",
    "cv2.imshow('Original Image',im_resized)\n",
    "cv2.imshow('Detected Edges',im_edges)\n",
    "cv2.waitKey(0)\n",
    "cv2.destroyAllWindows()"
   ]
  },
  {
   "cell_type": "code",
   "execution_count": 4,
   "metadata": {},
   "outputs": [],
   "source": [
    "# get all files in a folder\n",
    "import cv2\n",
    "import glob\n",
    "import numpy as np\n",
    "\n",
    "imdir = 'Lidah/'\n",
    "ext = ['png', 'jpg']\n",
    "\n",
    "files = []\n",
    "[files.extend(glob.glob(imdir + '*.' + e)) for e in ext]\n",
    "\n",
    "images = [cv2.imread(file) for file in files]\n",
    "\n",
    "i = 1\n",
    "for img in images:\n",
    "    im_adjusted = cv2.addWeighted(img, 2.5, np.zeros(img.shape, img.dtype), 0, -100)\n",
    "    im_name = \"Lidah_contrast/\" + str(i) + \".jpg\"\n",
    "    cv2.imwrite(im_name, im_adjusted)\n",
    "    i+=1"
   ]
  }
 ],
 "metadata": {
  "interpreter": {
   "hash": "7d1db740e34ac3315619f64f2ece75ab8d6034e30d6e8274cc298201027d96c2"
  },
  "kernelspec": {
   "display_name": "Python 3.9.7 64-bit (windows store)",
   "name": "python3"
  },
  "language_info": {
   "codemirror_mode": {
    "name": "ipython",
    "version": 3
   },
   "file_extension": ".py",
   "mimetype": "text/x-python",
   "name": "python",
   "nbconvert_exporter": "python",
   "pygments_lexer": "ipython3",
   "version": "3.9.7"
  },
  "orig_nbformat": 4
 },
 "nbformat": 4,
 "nbformat_minor": 2
}
